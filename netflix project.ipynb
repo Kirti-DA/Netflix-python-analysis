{
 "cells": [
  {
   "cell_type": "code",
   "execution_count": null,
   "id": "f21f551b-3e46-4fba-9b01-e44d65c65599",
   "metadata": {},
   "outputs": [],
   "source": [
    "import numpy as np\n",
    "import pandas as pd\n",
    "import matplotlib.pyplot as plt\n",
    "import seaborn as sns"
   ]
  },
  {
   "cell_type": "code",
   "execution_count": null,
   "id": "d3d21dd9-0d1d-4bb1-a2f3-f44fa0d3ace5",
   "metadata": {},
   "outputs": [],
   "source": [
    "df = pd.read_csv('mymoviedb.csv', lineterminator = '\\n')"
   ]
  },
  {
   "cell_type": "code",
   "execution_count": null,
   "id": "423d0f8a-d7be-4978-ba60-897ff7f8e8bb",
   "metadata": {},
   "outputs": [],
   "source": [
    "df.head()"
   ]
  },
  {
   "cell_type": "code",
   "execution_count": null,
   "id": "9e9b1c51-9382-427e-8344-c1b10d1bf38d",
   "metadata": {},
   "outputs": [],
   "source": [
    "df.info()"
   ]
  },
  {
   "cell_type": "code",
   "execution_count": null,
   "id": "e30d0e15-6c55-4f8e-8bc8-f2142cdb39ab",
   "metadata": {},
   "outputs": [],
   "source": [
    "df['Genre'].head()"
   ]
  },
  {
   "cell_type": "code",
   "execution_count": null,
   "id": "d52ed8a2-2988-452e-861c-fb141de05ef0",
   "metadata": {},
   "outputs": [],
   "source": [
    "df.duplicated().sum()"
   ]
  },
  {
   "cell_type": "code",
   "execution_count": null,
   "id": "d0b4ce27-07b4-407c-abe3-80a370d3194d",
   "metadata": {},
   "outputs": [],
   "source": [
    "df.describe()"
   ]
  },
  {
   "cell_type": "markdown",
   "id": "4bb73a87-3d54-4de1-9c93-e0ac7fe74e38",
   "metadata": {},
   "source": [
    "Exploration summary\n",
    "\n",
    " We have a dataframe conisisting of 9827 rows and 8 columns.\n",
    " Our dataset looks a bit tidy with no Nans nor duplicated values.\n",
    " Release_date column needs to be casted into data time and to extract only year value.\n",
    " Vote_count and vote_value both needed to be casted into correct data type.\n",
    " Overview, original_value and poster_url wouldn't be useful while analysis, so we will drop them.\n",
    " There is no noticable ouliers in popularity column.\n",
    " Genre column has comma seperated values and white spaces taht needs to be handled and casted into catgories"
   ]
  },
  {
   "cell_type": "code",
   "execution_count": null,
   "id": "a427b0d2-3000-4207-8f81-65b846df5069",
   "metadata": {},
   "outputs": [],
   "source": [
    "df['Release_Date'] = pd.to_datetime(df['Release_Date'], errors='coerce')\n",
    "print(df['Release_Date'].dtypes)"
   ]
  },
  {
   "cell_type": "code",
   "execution_count": null,
   "id": "40e5b966-c8d7-41d0-8d74-13bf41e4e0e8",
   "metadata": {},
   "outputs": [],
   "source": [
    "df['Release_Date'] = pd.to_datetime(df['Release_Date'], errors='coerce')\n",
    "\n",
    "df['Release_Date'] = df['Release_Date'].dt.year\n",
    "\n",
    "\n",
    "df['Release_Date'].dtypes"
   ]
  },
  {
   "cell_type": "code",
   "execution_count": null,
   "id": "b2aa71bc-b9a2-41c9-8346-2c1e58a6e4c1",
   "metadata": {},
   "outputs": [],
   "source": [
    "df.head()"
   ]
  },
  {
   "cell_type": "markdown",
   "id": "06e99ca0-e0fd-4d37-a3a8-60de2352a82b",
   "metadata": {},
   "source": [
    "Dropping the columns"
   ]
  },
  {
   "cell_type": "code",
   "execution_count": null,
   "id": "4e351a31-251d-4a85-ad90-ec11ef1135d4",
   "metadata": {},
   "outputs": [],
   "source": [
    "cols = ['Overview', 'Original_Language', 'Poster_Url\\r']"
   ]
  },
  {
   "cell_type": "code",
   "execution_count": null,
   "id": "51439613-3a4a-49aa-8f65-fd6dafca0b3a",
   "metadata": {},
   "outputs": [],
   "source": [
    "df.drop(cols, axis = 1, inplace = True, errors='ignore')\n",
    "df.columns"
   ]
  },
  {
   "cell_type": "code",
   "execution_count": null,
   "id": "880886a2-d7c3-479f-8756-b87d9933259f",
   "metadata": {},
   "outputs": [],
   "source": [
    "df.head()"
   ]
  },
  {
   "cell_type": "code",
   "execution_count": null,
   "id": "74efc8c9-cf36-4fed-aaea-e37314d80513",
   "metadata": {},
   "outputs": [],
   "source": [
    "df['Vote_Average'] = pd.to_numeric(df['Vote_Average'], errors='coerce')"
   ]
  },
  {
   "cell_type": "code",
   "execution_count": null,
   "id": "99b7611d-d89b-4bcb-b44f-3934d24bf90b",
   "metadata": {},
   "outputs": [],
   "source": [
    "\n",
    "df.dropna(inplace = True)\n",
    "\n",
    "df.isna().sum()"
   ]
  },
  {
   "cell_type": "code",
   "execution_count": null,
   "id": "23faa8b5-6b6e-45b2-b532-cfe987396529",
   "metadata": {},
   "outputs": [],
   "source": [
    "df.head()"
   ]
  },
  {
   "cell_type": "markdown",
   "id": "5e0548bf-6af5-4413-a119-21eeaa7e09e5",
   "metadata": {},
   "source": [
    "we'd spllit genres into a list and then explode our dataframe to have only one genre per row for each movie"
   ]
  },
  {
   "cell_type": "code",
   "execution_count": null,
   "id": "2cb4ff9d-d3a6-495d-9af4-518d11da7c54",
   "metadata": {},
   "outputs": [],
   "source": [
    "df['Genre'] = df['Genre'].fillna('')\n",
    "\n",
    "df['Genre'] = df['Genre'].str.split(', ')\n",
    "\n",
    "df = df.explode('Genre').reset_index(drop=True)\n",
    "df.head()\n"
   ]
  },
  {
   "cell_type": "code",
   "execution_count": null,
   "id": "9af0419c-6248-4e95-89d0-e6e03c431008",
   "metadata": {},
   "outputs": [],
   "source": [
    "df.info()"
   ]
  },
  {
   "cell_type": "markdown",
   "id": "90213df9-368b-4e51-8515-2342c17efd39",
   "metadata": {},
   "source": [
    "Data visualization"
   ]
  },
  {
   "cell_type": "code",
   "execution_count": null,
   "id": "f663b4b9-46b9-4a4b-a566-117a2569eca4",
   "metadata": {},
   "outputs": [],
   "source": [
    "sns.set_style('whitegrid')"
   ]
  },
  {
   "cell_type": "markdown",
   "id": "642a2e28-80ca-4e39-8a7b-992e7dd313c1",
   "metadata": {},
   "source": [
    "What is most frequent genre of movies released on netflix?"
   ]
  },
  {
   "cell_type": "code",
   "execution_count": 48,
   "id": "68fdda1d-b9e2-4085-a326-dc0e3e614ebf",
   "metadata": {},
   "outputs": [
    {
     "data": {
      "text/plain": [
       "count      9826\n",
       "unique     2337\n",
       "top       Drama\n",
       "freq        466\n",
       "Name: Genre, dtype: object"
      ]
     },
     "execution_count": 48,
     "metadata": {},
     "output_type": "execute_result"
    }
   ],
   "source": [
    "df['Genre'].describe()"
   ]
  },
  {
   "cell_type": "markdown",
   "id": "46f2b96f-c300-46c2-a050-8eeca5312c90",
   "metadata": {},
   "source": [
    "which has the highest votes in vote avg column"
   ]
  },
  {
   "cell_type": "code",
   "execution_count": 50,
   "id": "a94f8831-7787-478d-92a4-47d72dcb2879",
   "metadata": {},
   "outputs": [
    {
     "data": {
      "text/html": [
       "<div>\n",
       "<style scoped>\n",
       "    .dataframe tbody tr th:only-of-type {\n",
       "        vertical-align: middle;\n",
       "    }\n",
       "\n",
       "    .dataframe tbody tr th {\n",
       "        vertical-align: top;\n",
       "    }\n",
       "\n",
       "    .dataframe thead th {\n",
       "        text-align: right;\n",
       "    }\n",
       "</style>\n",
       "<table border=\"1\" class=\"dataframe\">\n",
       "  <thead>\n",
       "    <tr style=\"text-align: right;\">\n",
       "      <th></th>\n",
       "      <th>Release_Date</th>\n",
       "      <th>Title</th>\n",
       "      <th>Popularity</th>\n",
       "      <th>Vote_Count</th>\n",
       "      <th>Vote_Average</th>\n",
       "      <th>Genre</th>\n",
       "    </tr>\n",
       "  </thead>\n",
       "  <tbody>\n",
       "    <tr>\n",
       "      <th>0</th>\n",
       "      <td>2021.0</td>\n",
       "      <td>Spider-Man: No Way Home</td>\n",
       "      <td>5083.954</td>\n",
       "      <td>8940</td>\n",
       "      <td>8.3</td>\n",
       "      <td>Action, Adventure, Science Fiction</td>\n",
       "    </tr>\n",
       "    <tr>\n",
       "      <th>1</th>\n",
       "      <td>2022.0</td>\n",
       "      <td>The Batman</td>\n",
       "      <td>3827.658</td>\n",
       "      <td>1151</td>\n",
       "      <td>8.1</td>\n",
       "      <td>Crime, Mystery, Thriller</td>\n",
       "    </tr>\n",
       "    <tr>\n",
       "      <th>2</th>\n",
       "      <td>2022.0</td>\n",
       "      <td>No Exit</td>\n",
       "      <td>2618.087</td>\n",
       "      <td>122</td>\n",
       "      <td>6.3</td>\n",
       "      <td>Thriller</td>\n",
       "    </tr>\n",
       "    <tr>\n",
       "      <th>3</th>\n",
       "      <td>2021.0</td>\n",
       "      <td>Encanto</td>\n",
       "      <td>2402.201</td>\n",
       "      <td>5076</td>\n",
       "      <td>7.7</td>\n",
       "      <td>Animation, Comedy, Family, Fantasy</td>\n",
       "    </tr>\n",
       "    <tr>\n",
       "      <th>4</th>\n",
       "      <td>2021.0</td>\n",
       "      <td>The King's Man</td>\n",
       "      <td>1895.511</td>\n",
       "      <td>1793</td>\n",
       "      <td>7.0</td>\n",
       "      <td>Action, Adventure, Thriller, War</td>\n",
       "    </tr>\n",
       "  </tbody>\n",
       "</table>\n",
       "</div>"
      ],
      "text/plain": [
       "   Release_Date                    Title  Popularity Vote_Count  Vote_Average  \\\n",
       "0        2021.0  Spider-Man: No Way Home    5083.954       8940           8.3   \n",
       "1        2022.0               The Batman    3827.658       1151           8.1   \n",
       "2        2022.0                  No Exit    2618.087        122           6.3   \n",
       "3        2021.0                  Encanto    2402.201       5076           7.7   \n",
       "4        2021.0           The King's Man    1895.511       1793           7.0   \n",
       "\n",
       "                                Genre  \n",
       "0  Action, Adventure, Science Fiction  \n",
       "1            Crime, Mystery, Thriller  \n",
       "2                            Thriller  \n",
       "3  Animation, Comedy, Family, Fantasy  \n",
       "4    Action, Adventure, Thriller, War  "
      ]
     },
     "execution_count": 50,
     "metadata": {},
     "output_type": "execute_result"
    }
   ],
   "source": [
    "df.head()"
   ]
  },
  {
   "cell_type": "markdown",
   "id": "6607055e-8a41-4867-8739-d754371b4219",
   "metadata": {
    "jp-MarkdownHeadingCollapsed": true
   },
   "source": [
    " what movie got the highest popularity? what's its genre?"
   ]
  },
  {
   "cell_type": "code",
   "execution_count": 57,
   "id": "2b0c2ce7-bd20-4e4d-a441-71192efaddf8",
   "metadata": {},
   "outputs": [
    {
     "data": {
      "text/html": [
       "<div>\n",
       "<style scoped>\n",
       "    .dataframe tbody tr th:only-of-type {\n",
       "        vertical-align: middle;\n",
       "    }\n",
       "\n",
       "    .dataframe tbody tr th {\n",
       "        vertical-align: top;\n",
       "    }\n",
       "\n",
       "    .dataframe thead th {\n",
       "        text-align: right;\n",
       "    }\n",
       "</style>\n",
       "<table border=\"1\" class=\"dataframe\">\n",
       "  <thead>\n",
       "    <tr style=\"text-align: right;\">\n",
       "      <th></th>\n",
       "      <th>Release_Date</th>\n",
       "      <th>Title</th>\n",
       "      <th>Popularity</th>\n",
       "      <th>Vote_Count</th>\n",
       "      <th>Vote_Average</th>\n",
       "      <th>Genre</th>\n",
       "    </tr>\n",
       "  </thead>\n",
       "  <tbody>\n",
       "    <tr>\n",
       "      <th>0</th>\n",
       "      <td>2021.0</td>\n",
       "      <td>Spider-Man: No Way Home</td>\n",
       "      <td>5083.954</td>\n",
       "      <td>8940</td>\n",
       "      <td>8.3</td>\n",
       "      <td>Action, Adventure, Science Fiction</td>\n",
       "    </tr>\n",
       "  </tbody>\n",
       "</table>\n",
       "</div>"
      ],
      "text/plain": [
       "   Release_Date                    Title  Popularity Vote_Count  Vote_Average  \\\n",
       "0        2021.0  Spider-Man: No Way Home    5083.954       8940           8.3   \n",
       "\n",
       "                                Genre  \n",
       "0  Action, Adventure, Science Fiction  "
      ]
     },
     "execution_count": 57,
     "metadata": {},
     "output_type": "execute_result"
    }
   ],
   "source": [
    "df[df['Popularity'] == df['Popularity'].max()]"
   ]
  },
  {
   "cell_type": "markdown",
   "id": "70426624-9851-4b07-bcdc-8c4ef26f80c9",
   "metadata": {},
   "source": [
    " what movie got the lowestt popularity? what's its genre?\n"
   ]
  },
  {
   "cell_type": "code",
   "execution_count": 59,
   "id": "ee9b6456-4024-4833-8fb4-384ccad7c8be",
   "metadata": {},
   "outputs": [
    {
     "data": {
      "text/html": [
       "<div>\n",
       "<style scoped>\n",
       "    .dataframe tbody tr th:only-of-type {\n",
       "        vertical-align: middle;\n",
       "    }\n",
       "\n",
       "    .dataframe tbody tr th {\n",
       "        vertical-align: top;\n",
       "    }\n",
       "\n",
       "    .dataframe thead th {\n",
       "        text-align: right;\n",
       "    }\n",
       "</style>\n",
       "<table border=\"1\" class=\"dataframe\">\n",
       "  <thead>\n",
       "    <tr style=\"text-align: right;\">\n",
       "      <th></th>\n",
       "      <th>Release_Date</th>\n",
       "      <th>Title</th>\n",
       "      <th>Popularity</th>\n",
       "      <th>Vote_Count</th>\n",
       "      <th>Vote_Average</th>\n",
       "      <th>Genre</th>\n",
       "    </tr>\n",
       "  </thead>\n",
       "  <tbody>\n",
       "    <tr>\n",
       "      <th>1115</th>\n",
       "      <td>NaN</td>\n",
       "      <td>61.328</td>\n",
       "      <td>7.1</td>\n",
       "      <td>en</td>\n",
       "      <td>NaN</td>\n",
       "      <td>NaN</td>\n",
       "    </tr>\n",
       "  </tbody>\n",
       "</table>\n",
       "</div>"
      ],
      "text/plain": [
       "      Release_Date   Title  Popularity Vote_Count  Vote_Average Genre\n",
       "1115           NaN  61.328         7.1         en           NaN   NaN"
      ]
     },
     "execution_count": 59,
     "metadata": {},
     "output_type": "execute_result"
    }
   ],
   "source": [
    "df[df['Popularity']== df['Popularity'].min()]"
   ]
  },
  {
   "cell_type": "markdown",
   "id": "534a8f1a-ceff-41d4-af83-7108e37333cd",
   "metadata": {},
   "source": [
    "Which year has the most filmmed movies?"
   ]
  },
  {
   "cell_type": "code",
   "execution_count": 63,
   "id": "fa9e5897-e6f5-4489-84dc-7107db23df6a",
   "metadata": {},
   "outputs": [
    {
     "data": {
      "image/png": "[encoded data removed]",
      "text/plain": [
       "<Figure size 640x480 with 1 Axes>"
      ]
     },
     "metadata": {},
     "output_type": "display_data"
    }
   ],
   "source": [
    "df['Release_Date'].hist()\n",
    "plt.title('Release date column distribution')\n",
    "plt.show()"
   ]
  },
  {
   "cell_type": "markdown",
   "id": "6aeefd81-3ea0-4cac-9a5e-d5e75d7a7b31",
   "metadata": {},
   "source": [
    "# Conclusion\n",
    "\n",
    "Drama genre is the most frequent genre in our dataset and has appeared more than 14% of th times among other genres.\n",
    "\n",
    "We have 25.5% of our dataset with our popular vote. Drama again gets th highest popularity among fans by being having more than 18.5% of movies popularities.\n",
    "\n",
    "Spider-man: No way home has the highest popularity rate in our datset and it has genre of Action, Adventure and Science fiction.\n",
    "\n",
    "Year 2020 has the highest filming rate in our dataset."
   ]
  }
 ],
 "metadata": {
  "kernelspec": {
   "display_name": "Python [conda env:base] *",
   "language": "python",
   "name": "conda-base-py"
  },
  "language_info": {
   "codemirror_mode": {
    "name": "ipython",
    "version": 3
   },
   "file_extension": ".py",
   "mimetype": "text/x-python",
   "name": "python",
   "nbconvert_exporter": "python",
   "pygments_lexer": "ipython3",
   "version": "3.12.7"
  }
 },
 "nbformat": 4,
 "nbformat_minor": 5
}
